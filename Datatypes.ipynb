{
 "cells": [
  {
   "cell_type": "markdown",
   "id": "a4e65443",
   "metadata": {},
   "source": [
    "# Python Data Structures and Boolean"
   ]
  },
  {
   "cell_type": "markdown",
   "id": "bf9ec461",
   "metadata": {},
   "source": [
    "- Boolean\n",
    "- Boolean and Logical Operators\n",
    "- Lists\n",
    "- Comparision Operators\n",
    "- Dictionaries\n",
    "- Tuples\n",
    "- Sets"
   ]
  },
  {
   "cell_type": "markdown",
   "id": "97726cbf",
   "metadata": {},
   "source": [
    "## Boolean Variables"
   ]
  },
  {
   "cell_type": "markdown",
   "id": "aed7290e",
   "metadata": {},
   "source": [
    "Boolean values are the two constatnt objects False and True.\n",
    "\n",
    "They are used to represent truth values (other values can also be consideres false or true)\n",
    "\n",
    "In numeric contexts (for example, when used as the arguement to an arithimetic operator), they behave like the integers 0 and 1, respectively.\n",
    "\n",
    "The built-in function bool() can be used to cast any value to a Boolean, if the value can be interpreted as a truth value\n",
    "\n",
    "They can be written as Flase and True respectively. "
   ]
  },
  {
   "cell_type": "code",
   "execution_count": 1,
   "id": "4add0835",
   "metadata": {},
   "outputs": [
    {
     "name": "stdout",
     "output_type": "stream",
     "text": [
      "True False\n"
     ]
    }
   ],
   "source": [
    "print(True,False)"
   ]
  },
  {
   "cell_type": "code",
   "execution_count": 2,
   "id": "4bf1f483",
   "metadata": {},
   "outputs": [
    {
     "data": {
      "text/plain": [
       "bool"
      ]
     },
     "execution_count": 2,
     "metadata": {},
     "output_type": "execute_result"
    }
   ],
   "source": [
    "type(True)"
   ]
  },
  {
   "cell_type": "code",
   "execution_count": 14,
   "id": "de568bfd",
   "metadata": {},
   "outputs": [],
   "source": [
    "my_str=\"Abcd\"\n",
    "my_str2='Sam2505'"
   ]
  },
  {
   "cell_type": "code",
   "execution_count": 15,
   "id": "462e03a5",
   "metadata": {},
   "outputs": [
    {
     "name": "stdout",
     "output_type": "stream",
     "text": [
      "True\n",
      "True\n",
      "True\n"
     ]
    }
   ],
   "source": [
    "print(my_str.isalnum()) #Checks if all strings are numbers and atleast there is one character\n",
    "print(my_str2.isalnum())\n",
    "print(my_str.isalpha())"
   ]
  },
  {
   "cell_type": "code",
   "execution_count": 13,
   "id": "b682a7cd",
   "metadata": {},
   "outputs": [
    {
     "data": {
      "text/plain": [
       "False"
      ]
     },
     "execution_count": 13,
     "metadata": {},
     "output_type": "execute_result"
    }
   ],
   "source": [
    "my_str.isalnum() #Checks if all strings are numbers and atleast there is one character\n",
    "my_str.isalpha()"
   ]
  },
  {
   "cell_type": "code",
   "execution_count": null,
   "id": "335a579b",
   "metadata": {},
   "outputs": [],
   "source": []
  }
 ],
 "metadata": {
  "kernelspec": {
   "display_name": "Python 3 (ipykernel)",
   "language": "python",
   "name": "python3"
  },
  "language_info": {
   "codemirror_mode": {
    "name": "ipython",
    "version": 3
   },
   "file_extension": ".py",
   "mimetype": "text/x-python",
   "name": "python",
   "nbconvert_exporter": "python",
   "pygments_lexer": "ipython3",
   "version": "3.11.4"
  }
 },
 "nbformat": 4,
 "nbformat_minor": 5
}
